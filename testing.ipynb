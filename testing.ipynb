{
 "cells": [
  {
   "cell_type": "code",
   "execution_count": null,
   "metadata": {},
   "outputs": [],
   "source": [
    "import tensorflow as tf\n",
    "from tensorflow import keras\n",
    "from sklearn.metrics import accuracy_score, precision_score\n",
    "import numpy as np"
   ]
  },
  {
   "cell_type": "code",
   "execution_count": null,
   "metadata": {},
   "outputs": [],
   "source": [
    "test_data = tf.keras.utils.image_dataset_from_directory(\n",
    "    '../earthshots-data/model-datasets/test', # update this\n",
    "    seed=0,\n",
    "    image_size = (224, 224),\n",
    ")"
   ]
  },
  {
   "cell_type": "code",
   "execution_count": 5,
   "metadata": {},
   "outputs": [],
   "source": [
    "effnetS_1 = tf.keras.models.load_model('models/airfields-effnetV2S-2.0.keras')"
   ]
  },
  {
   "cell_type": "code",
   "execution_count": 6,
   "metadata": {},
   "outputs": [
    {
     "name": "stdout",
     "output_type": "stream",
     "text": [
      "84/84 [==============================] - 11s 56ms/step - loss: 0.6689 - accuracy: 0.9347 - precision: 0.9388\n"
     ]
    },
    {
     "data": {
      "text/plain": [
       "[0.6688751578330994, 0.934725821018219, 0.9387755393981934]"
      ]
     },
     "execution_count": 6,
     "metadata": {},
     "output_type": "execute_result"
    }
   ],
   "source": [
    "effnetS_1.evaluate(test_data)"
   ]
  },
  {
   "cell_type": "code",
   "execution_count": 7,
   "metadata": {},
   "outputs": [],
   "source": [
    "effnetS_2 = tf.keras.models.load_model('models/airfields-effnetV2S-2.1.keras')"
   ]
  },
  {
   "cell_type": "code",
   "execution_count": 8,
   "metadata": {},
   "outputs": [
    {
     "name": "stdout",
     "output_type": "stream",
     "text": [
      "84/84 [==============================] - 10s 53ms/step - loss: 0.3873 - accuracy: 0.9508 - precision: 0.8830\n"
     ]
    },
    {
     "data": {
      "text/plain": [
       "[0.38728806376457214, 0.9507646560668945, 0.8829516768455505]"
      ]
     },
     "execution_count": 8,
     "metadata": {},
     "output_type": "execute_result"
    }
   ],
   "source": [
    "effnetS_2.evaluate(test_data)"
   ]
  },
  {
   "cell_type": "code",
   "execution_count": 9,
   "metadata": {},
   "outputs": [],
   "source": [
    "resnet50 = tf.keras.models.load_model('models/airfields-resnet50V2-2.keras')"
   ]
  },
  {
   "cell_type": "code",
   "execution_count": 10,
   "metadata": {},
   "outputs": [
    {
     "name": "stdout",
     "output_type": "stream",
     "text": [
      "84/84 [==============================] - 5s 40ms/step - loss: 0.2828 - accuracy: 0.9467 - precision_1: 0.9240\n"
     ]
    },
    {
     "data": {
      "text/plain": [
       "[0.28279221057891846, 0.9466617107391357, 0.9239766001701355]"
      ]
     },
     "execution_count": 10,
     "metadata": {},
     "output_type": "execute_result"
    }
   ],
   "source": [
    "resnet50.evaluate(test_data)"
   ]
  },
  {
   "cell_type": "code",
   "execution_count": 11,
   "metadata": {},
   "outputs": [],
   "source": [
    "resnet101 = tf.keras.models.load_model('models/airfields-resnet101V2-0.keras')"
   ]
  },
  {
   "cell_type": "code",
   "execution_count": 12,
   "metadata": {},
   "outputs": [
    {
     "name": "stdout",
     "output_type": "stream",
     "text": [
      "84/84 [==============================] - 8s 62ms/step - loss: 0.2481 - accuracy: 0.9306 - precision_3: 0.8065\n"
     ]
    },
    {
     "data": {
      "text/plain": [
       "[0.24805773794651031, 0.9306228756904602, 0.8064516186714172]"
      ]
     },
     "execution_count": 12,
     "metadata": {},
     "output_type": "execute_result"
    }
   ],
   "source": [
    "resnet101.evaluate(test_data)"
   ]
  }
 ],
 "metadata": {
  "kernelspec": {
   "display_name": "tf",
   "language": "python",
   "name": "python3"
  },
  "language_info": {
   "codemirror_mode": {
    "name": "ipython",
    "version": 3
   },
   "file_extension": ".py",
   "mimetype": "text/x-python",
   "name": "python",
   "nbconvert_exporter": "python",
   "pygments_lexer": "ipython3",
   "version": "3.9.17"
  },
  "orig_nbformat": 4
 },
 "nbformat": 4,
 "nbformat_minor": 2
}
